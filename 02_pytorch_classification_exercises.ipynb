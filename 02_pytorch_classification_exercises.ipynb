{
  "nbformat": 4,
  "nbformat_minor": 0,
  "metadata": {
    "colab": {
      "name": "02_pytorch_classification_exercises.ipynb",
      "provenance": [],
      "include_colab_link": true
    },
    "kernelspec": {
      "name": "python3",
      "display_name": "Python 3"
    },
    "language_info": {
      "name": "python"
    }
  },
  "cells": [
    {
      "cell_type": "markdown",
      "metadata": {
        "id": "view-in-github",
        "colab_type": "text"
      },
      "source": [
        "<a href=\"https://colab.research.google.com/github/Namakando-ApertureScience/Torch-training/blob/main/02_pytorch_classification_exercises.ipynb\" target=\"_parent\"><img src=\"https://colab.research.google.com/assets/colab-badge.svg\" alt=\"Open In Colab\"/></a>"
      ]
    },
    {
      "cell_type": "markdown",
      "source": [
        "# 02. PyTorch Classification Exercises\n",
        "\n",
        "The following is a template for 02. PyTorch Classification exercises.\n",
        "\n",
        "It's only starter code and it's your job to fill in the blanks.\n",
        "\n",
        "Because of the flexibility of PyTorch, there may be more than one way to answer the question.\n",
        "\n",
        "Don't worry about trying to be *right* just try writing code that suffices the question.\n",
        "\n",
        "## Resources\n",
        "* These exercises are based on [notebook 02 of the learn PyTorch course](https://www.learnpytorch.io/02_pytorch_classification/).\n",
        "* You can see one form of [solutions on GitHub](https://github.com/mrdbourke/pytorch-deep-learning/tree/main/extras/solutions) (but try the exercises below yourself first!)."
      ],
      "metadata": {
        "id": "ZKJFt7YxH8yl"
      }
    },
    {
      "cell_type": "code",
      "source": [
        "!nvidia-smi"
      ],
      "metadata": {
        "id": "jJYRNewSXjBB",
        "outputId": "789c7cda-9cbb-4474-ef7a-7b1af6ef63c3",
        "colab": {
          "base_uri": "https://localhost:8080/"
        }
      },
      "execution_count": 672,
      "outputs": [
        {
          "output_type": "stream",
          "name": "stdout",
          "text": [
            "/bin/bash: line 1: nvidia-smi: command not found\n"
          ]
        }
      ]
    },
    {
      "cell_type": "code",
      "source": [
        "# Import torch\n",
        "import torch\n",
        "import torch.nn as nn\n",
        "\n",
        "# Setup device agnostic code\n",
        "device = torch.accelerator.current_accelerator() if torch.accelerator.is_available() else \"cpu\"\n",
        "print(device)\n",
        "\n",
        "# Setup random seed\n",
        "RANDOM_SEED = 42"
      ],
      "metadata": {
        "id": "CSrUPgapO0tf",
        "outputId": "03caf703-0e7f-4233-f10c-71de0d3a1ecd",
        "colab": {
          "base_uri": "https://localhost:8080/"
        }
      },
      "execution_count": 673,
      "outputs": [
        {
          "output_type": "stream",
          "name": "stdout",
          "text": [
            "cpu\n"
          ]
        }
      ]
    },
    {
      "cell_type": "markdown",
      "source": [
        "## 1. Make a binary classification dataset with Scikit-Learn's [`make_moons()`](https://scikit-learn.org/stable/modules/generated/sklearn.datasets.make_moons.html) function.\n",
        "  * For consistency, the dataset should have 1000 samples and a `random_state=42`.\n",
        "  * Turn the data into PyTorch tensors.\n",
        "  * Split the data into training and test sets using `train_test_split` with 80% training and 20% testing."
      ],
      "metadata": {
        "id": "pH7jIZ2SPFee"
      }
    },
    {
      "cell_type": "code",
      "source": [
        "# Create a dataset with Scikit-Learn's make_moons()\n",
        "from sklearn.datasets import make_moons\n",
        "X, y = make_moons(n_samples=1000, shuffle=True, noise=0.05, random_state=RANDOM_SEED)\n",
        "print(f\"Ten samples of the moon data; X: {X[:10]} y: {y[:10]}\")"
      ],
      "metadata": {
        "id": "5t4VhPV1PX1X",
        "outputId": "cd2d59cf-9f2f-40f9-f63b-f10a57bc84a7",
        "colab": {
          "base_uri": "https://localhost:8080/"
        }
      },
      "execution_count": 674,
      "outputs": [
        {
          "output_type": "stream",
          "name": "stdout",
          "text": [
            "Ten samples of the moon data; X: [[-0.02137124  0.40618608]\n",
            " [ 0.97670045 -0.45832306]\n",
            " [ 0.90405882 -0.37651952]\n",
            " [ 0.37736316 -0.39703717]\n",
            " [-0.84192557  0.53058695]\n",
            " [ 0.58930337 -0.32137599]\n",
            " [ 0.29248724 -0.20696309]\n",
            " [-0.02637836  0.44766267]\n",
            " [ 1.6201408  -0.28758856]\n",
            " [ 0.68246733  0.80712069]] y: [1 1 1 1 0 1 1 1 1 0]\n"
          ]
        }
      ]
    },
    {
      "cell_type": "code",
      "source": [
        "# Turn data into a DataFrame\n",
        "import pandas as pd\n",
        "\n",
        "frame = pd.DataFrame({\"X1\":X[:, 0],\n",
        "                      \"X2\":X[:, 1],\n",
        "                      \"y\":y})\n",
        "frame.head()"
      ],
      "metadata": {
        "id": "SUeHZ3-3P9C7",
        "outputId": "255fe2d5-625e-4da0-9b0d-a79488650397",
        "colab": {
          "base_uri": "https://localhost:8080/",
          "height": 206
        }
      },
      "execution_count": 675,
      "outputs": [
        {
          "output_type": "execute_result",
          "data": {
            "text/plain": [
              "         X1        X2  y\n",
              "0 -0.021371  0.406186  1\n",
              "1  0.976700 -0.458323  1\n",
              "2  0.904059 -0.376520  1\n",
              "3  0.377363 -0.397037  1\n",
              "4 -0.841926  0.530587  0"
            ],
            "text/html": [
              "\n",
              "  <div id=\"df-71978306-2d27-4e89-a760-d8fe0972daab\" class=\"colab-df-container\">\n",
              "    <div>\n",
              "<style scoped>\n",
              "    .dataframe tbody tr th:only-of-type {\n",
              "        vertical-align: middle;\n",
              "    }\n",
              "\n",
              "    .dataframe tbody tr th {\n",
              "        vertical-align: top;\n",
              "    }\n",
              "\n",
              "    .dataframe thead th {\n",
              "        text-align: right;\n",
              "    }\n",
              "</style>\n",
              "<table border=\"1\" class=\"dataframe\">\n",
              "  <thead>\n",
              "    <tr style=\"text-align: right;\">\n",
              "      <th></th>\n",
              "      <th>X1</th>\n",
              "      <th>X2</th>\n",
              "      <th>y</th>\n",
              "    </tr>\n",
              "  </thead>\n",
              "  <tbody>\n",
              "    <tr>\n",
              "      <th>0</th>\n",
              "      <td>-0.021371</td>\n",
              "      <td>0.406186</td>\n",
              "      <td>1</td>\n",
              "    </tr>\n",
              "    <tr>\n",
              "      <th>1</th>\n",
              "      <td>0.976700</td>\n",
              "      <td>-0.458323</td>\n",
              "      <td>1</td>\n",
              "    </tr>\n",
              "    <tr>\n",
              "      <th>2</th>\n",
              "      <td>0.904059</td>\n",
              "      <td>-0.376520</td>\n",
              "      <td>1</td>\n",
              "    </tr>\n",
              "    <tr>\n",
              "      <th>3</th>\n",
              "      <td>0.377363</td>\n",
              "      <td>-0.397037</td>\n",
              "      <td>1</td>\n",
              "    </tr>\n",
              "    <tr>\n",
              "      <th>4</th>\n",
              "      <td>-0.841926</td>\n",
              "      <td>0.530587</td>\n",
              "      <td>0</td>\n",
              "    </tr>\n",
              "  </tbody>\n",
              "</table>\n",
              "</div>\n",
              "    <div class=\"colab-df-buttons\">\n",
              "\n",
              "  <div class=\"colab-df-container\">\n",
              "    <button class=\"colab-df-convert\" onclick=\"convertToInteractive('df-71978306-2d27-4e89-a760-d8fe0972daab')\"\n",
              "            title=\"Convert this dataframe to an interactive table.\"\n",
              "            style=\"display:none;\">\n",
              "\n",
              "  <svg xmlns=\"http://www.w3.org/2000/svg\" height=\"24px\" viewBox=\"0 -960 960 960\">\n",
              "    <path d=\"M120-120v-720h720v720H120Zm60-500h600v-160H180v160Zm220 220h160v-160H400v160Zm0 220h160v-160H400v160ZM180-400h160v-160H180v160Zm440 0h160v-160H620v160ZM180-180h160v-160H180v160Zm440 0h160v-160H620v160Z\"/>\n",
              "  </svg>\n",
              "    </button>\n",
              "\n",
              "  <style>\n",
              "    .colab-df-container {\n",
              "      display:flex;\n",
              "      gap: 12px;\n",
              "    }\n",
              "\n",
              "    .colab-df-convert {\n",
              "      background-color: #E8F0FE;\n",
              "      border: none;\n",
              "      border-radius: 50%;\n",
              "      cursor: pointer;\n",
              "      display: none;\n",
              "      fill: #1967D2;\n",
              "      height: 32px;\n",
              "      padding: 0 0 0 0;\n",
              "      width: 32px;\n",
              "    }\n",
              "\n",
              "    .colab-df-convert:hover {\n",
              "      background-color: #E2EBFA;\n",
              "      box-shadow: 0px 1px 2px rgba(60, 64, 67, 0.3), 0px 1px 3px 1px rgba(60, 64, 67, 0.15);\n",
              "      fill: #174EA6;\n",
              "    }\n",
              "\n",
              "    .colab-df-buttons div {\n",
              "      margin-bottom: 4px;\n",
              "    }\n",
              "\n",
              "    [theme=dark] .colab-df-convert {\n",
              "      background-color: #3B4455;\n",
              "      fill: #D2E3FC;\n",
              "    }\n",
              "\n",
              "    [theme=dark] .colab-df-convert:hover {\n",
              "      background-color: #434B5C;\n",
              "      box-shadow: 0px 1px 3px 1px rgba(0, 0, 0, 0.15);\n",
              "      filter: drop-shadow(0px 1px 2px rgba(0, 0, 0, 0.3));\n",
              "      fill: #FFFFFF;\n",
              "    }\n",
              "  </style>\n",
              "\n",
              "    <script>\n",
              "      const buttonEl =\n",
              "        document.querySelector('#df-71978306-2d27-4e89-a760-d8fe0972daab button.colab-df-convert');\n",
              "      buttonEl.style.display =\n",
              "        google.colab.kernel.accessAllowed ? 'block' : 'none';\n",
              "\n",
              "      async function convertToInteractive(key) {\n",
              "        const element = document.querySelector('#df-71978306-2d27-4e89-a760-d8fe0972daab');\n",
              "        const dataTable =\n",
              "          await google.colab.kernel.invokeFunction('convertToInteractive',\n",
              "                                                    [key], {});\n",
              "        if (!dataTable) return;\n",
              "\n",
              "        const docLinkHtml = 'Like what you see? Visit the ' +\n",
              "          '<a target=\"_blank\" href=https://colab.research.google.com/notebooks/data_table.ipynb>data table notebook</a>'\n",
              "          + ' to learn more about interactive tables.';\n",
              "        element.innerHTML = '';\n",
              "        dataTable['output_type'] = 'display_data';\n",
              "        await google.colab.output.renderOutput(dataTable, element);\n",
              "        const docLink = document.createElement('div');\n",
              "        docLink.innerHTML = docLinkHtml;\n",
              "        element.appendChild(docLink);\n",
              "      }\n",
              "    </script>\n",
              "  </div>\n",
              "\n",
              "\n",
              "    <div id=\"df-c6e00d34-c2d2-4845-9161-41e1e5979125\">\n",
              "      <button class=\"colab-df-quickchart\" onclick=\"quickchart('df-c6e00d34-c2d2-4845-9161-41e1e5979125')\"\n",
              "                title=\"Suggest charts\"\n",
              "                style=\"display:none;\">\n",
              "\n",
              "<svg xmlns=\"http://www.w3.org/2000/svg\" height=\"24px\"viewBox=\"0 0 24 24\"\n",
              "     width=\"24px\">\n",
              "    <g>\n",
              "        <path d=\"M19 3H5c-1.1 0-2 .9-2 2v14c0 1.1.9 2 2 2h14c1.1 0 2-.9 2-2V5c0-1.1-.9-2-2-2zM9 17H7v-7h2v7zm4 0h-2V7h2v10zm4 0h-2v-4h2v4z\"/>\n",
              "    </g>\n",
              "</svg>\n",
              "      </button>\n",
              "\n",
              "<style>\n",
              "  .colab-df-quickchart {\n",
              "      --bg-color: #E8F0FE;\n",
              "      --fill-color: #1967D2;\n",
              "      --hover-bg-color: #E2EBFA;\n",
              "      --hover-fill-color: #174EA6;\n",
              "      --disabled-fill-color: #AAA;\n",
              "      --disabled-bg-color: #DDD;\n",
              "  }\n",
              "\n",
              "  [theme=dark] .colab-df-quickchart {\n",
              "      --bg-color: #3B4455;\n",
              "      --fill-color: #D2E3FC;\n",
              "      --hover-bg-color: #434B5C;\n",
              "      --hover-fill-color: #FFFFFF;\n",
              "      --disabled-bg-color: #3B4455;\n",
              "      --disabled-fill-color: #666;\n",
              "  }\n",
              "\n",
              "  .colab-df-quickchart {\n",
              "    background-color: var(--bg-color);\n",
              "    border: none;\n",
              "    border-radius: 50%;\n",
              "    cursor: pointer;\n",
              "    display: none;\n",
              "    fill: var(--fill-color);\n",
              "    height: 32px;\n",
              "    padding: 0;\n",
              "    width: 32px;\n",
              "  }\n",
              "\n",
              "  .colab-df-quickchart:hover {\n",
              "    background-color: var(--hover-bg-color);\n",
              "    box-shadow: 0 1px 2px rgba(60, 64, 67, 0.3), 0 1px 3px 1px rgba(60, 64, 67, 0.15);\n",
              "    fill: var(--button-hover-fill-color);\n",
              "  }\n",
              "\n",
              "  .colab-df-quickchart-complete:disabled,\n",
              "  .colab-df-quickchart-complete:disabled:hover {\n",
              "    background-color: var(--disabled-bg-color);\n",
              "    fill: var(--disabled-fill-color);\n",
              "    box-shadow: none;\n",
              "  }\n",
              "\n",
              "  .colab-df-spinner {\n",
              "    border: 2px solid var(--fill-color);\n",
              "    border-color: transparent;\n",
              "    border-bottom-color: var(--fill-color);\n",
              "    animation:\n",
              "      spin 1s steps(1) infinite;\n",
              "  }\n",
              "\n",
              "  @keyframes spin {\n",
              "    0% {\n",
              "      border-color: transparent;\n",
              "      border-bottom-color: var(--fill-color);\n",
              "      border-left-color: var(--fill-color);\n",
              "    }\n",
              "    20% {\n",
              "      border-color: transparent;\n",
              "      border-left-color: var(--fill-color);\n",
              "      border-top-color: var(--fill-color);\n",
              "    }\n",
              "    30% {\n",
              "      border-color: transparent;\n",
              "      border-left-color: var(--fill-color);\n",
              "      border-top-color: var(--fill-color);\n",
              "      border-right-color: var(--fill-color);\n",
              "    }\n",
              "    40% {\n",
              "      border-color: transparent;\n",
              "      border-right-color: var(--fill-color);\n",
              "      border-top-color: var(--fill-color);\n",
              "    }\n",
              "    60% {\n",
              "      border-color: transparent;\n",
              "      border-right-color: var(--fill-color);\n",
              "    }\n",
              "    80% {\n",
              "      border-color: transparent;\n",
              "      border-right-color: var(--fill-color);\n",
              "      border-bottom-color: var(--fill-color);\n",
              "    }\n",
              "    90% {\n",
              "      border-color: transparent;\n",
              "      border-bottom-color: var(--fill-color);\n",
              "    }\n",
              "  }\n",
              "</style>\n",
              "\n",
              "      <script>\n",
              "        async function quickchart(key) {\n",
              "          const quickchartButtonEl =\n",
              "            document.querySelector('#' + key + ' button');\n",
              "          quickchartButtonEl.disabled = true;  // To prevent multiple clicks.\n",
              "          quickchartButtonEl.classList.add('colab-df-spinner');\n",
              "          try {\n",
              "            const charts = await google.colab.kernel.invokeFunction(\n",
              "                'suggestCharts', [key], {});\n",
              "          } catch (error) {\n",
              "            console.error('Error during call to suggestCharts:', error);\n",
              "          }\n",
              "          quickchartButtonEl.classList.remove('colab-df-spinner');\n",
              "          quickchartButtonEl.classList.add('colab-df-quickchart-complete');\n",
              "        }\n",
              "        (() => {\n",
              "          let quickchartButtonEl =\n",
              "            document.querySelector('#df-c6e00d34-c2d2-4845-9161-41e1e5979125 button');\n",
              "          quickchartButtonEl.style.display =\n",
              "            google.colab.kernel.accessAllowed ? 'block' : 'none';\n",
              "        })();\n",
              "      </script>\n",
              "    </div>\n",
              "\n",
              "    </div>\n",
              "  </div>\n"
            ],
            "application/vnd.google.colaboratory.intrinsic+json": {
              "type": "dataframe",
              "variable_name": "frame",
              "summary": "{\n  \"name\": \"frame\",\n  \"rows\": 1000,\n  \"fields\": [\n    {\n      \"column\": \"X1\",\n      \"properties\": {\n        \"dtype\": \"number\",\n        \"std\": 0.8681892143972055,\n        \"min\": -1.1067327332191668,\n        \"max\": 2.122675629230518,\n        \"num_unique_values\": 1000,\n        \"samples\": [\n          0.5298317556988078,\n          0.7973102796627205,\n          1.2576690900707146\n        ],\n        \"semantic_type\": \"\",\n        \"description\": \"\"\n      }\n    },\n    {\n      \"column\": \"X2\",\n      \"properties\": {\n        \"dtype\": \"number\",\n        \"std\": 0.4962782860051319,\n        \"min\": -0.6198949615593068,\n        \"max\": 1.080074093288222,\n        \"num_unique_values\": 1000,\n        \"samples\": [\n          -0.38745300329638643,\n          0.66125328425766,\n          -0.4485312851520229\n        ],\n        \"semantic_type\": \"\",\n        \"description\": \"\"\n      }\n    },\n    {\n      \"column\": \"y\",\n      \"properties\": {\n        \"dtype\": \"number\",\n        \"std\": 0,\n        \"min\": 0,\n        \"max\": 1,\n        \"num_unique_values\": 2,\n        \"samples\": [\n          0,\n          1\n        ],\n        \"semantic_type\": \"\",\n        \"description\": \"\"\n      }\n    }\n  ]\n}"
            }
          },
          "metadata": {},
          "execution_count": 675
        }
      ]
    },
    {
      "cell_type": "code",
      "source": [
        "# Visualize the data on a scatter plot\n",
        "import matplotlib.pyplot as plt\n",
        "\n",
        "class_1 = [x for x, y_ in list(zip(X, y)) if y_ == 0]\n",
        "class_1T = list(zip(*class_1))\n",
        "\n",
        "class_2 = [x for x, y_ in list(zip(X, y)) if y_ == 1]\n",
        "class_2T = list(zip(*class_2))\n",
        "\n",
        "plt.figure(figsize=(10, 6), facecolor=\"lightcyan\")\n",
        "plt.title(\"Data Visualized\")\n",
        "plt.scatter(class_1T[0], class_1T[1], s=5, c=\"blue\", label=\"Class 1 Data\")\n",
        "plt.scatter(class_2T[0], class_2T[1], s=5, c=\"red\", label=\"Class 2 Data\")\n",
        "plt.legend(prop={\"size\":12})\n",
        "plt.show()"
      ],
      "metadata": {
        "id": "owrkPSFvQPFI",
        "outputId": "cc891ac2-1f3b-40f2-ae6b-2b76d0d402ec",
        "colab": {
          "base_uri": "https://localhost:8080/",
          "height": 545
        }
      },
      "execution_count": 676,
      "outputs": [
        {
          "output_type": "display_data",
          "data": {
            "text/plain": [
              "<Figure size 1000x600 with 1 Axes>"
            ],
            "image/png": "[encoded data removed]"
          },
          "metadata": {}
        }
      ]
    },
    {
      "cell_type": "code",
      "source": [
        "# Turn data into tensors of dtype float\n",
        "X, y = torch.from_numpy(X).type(torch.float), torch.from_numpy(y).type(torch.float)\n",
        "\n",
        "# Split the data into train and test sets (80% train, 20% test)\n",
        "from sklearn.model_selection import train_test_split\n",
        "\n",
        "X_train, X_test, y_train, y_test = train_test_split(X,\n",
        "                                                    y,\n",
        "                                                    test_size=0.2,\n",
        "                                                    random_state=RANDOM_SEED,\n",
        "                                                    shuffle=True, stratify=y,)\n",
        "\n",
        "len(X_train), len(X_test), len(y_train), len(y_test)"
      ],
      "metadata": {
        "id": "bDhyHn9fR4dq",
        "outputId": "8acc626a-fd19-48d4-f80d-33f16927cf80",
        "colab": {
          "base_uri": "https://localhost:8080/"
        }
      },
      "execution_count": 677,
      "outputs": [
        {
          "output_type": "execute_result",
          "data": {
            "text/plain": [
              "(800, 200, 800, 200)"
            ]
          },
          "metadata": {},
          "execution_count": 677
        }
      ]
    },
    {
      "cell_type": "markdown",
      "source": [
        "## 2. Build a model by subclassing `nn.Module` that incorporates non-linear activation functions and is capable of fitting the data you created in 1.\n",
        "  * Feel free to use any combination of PyTorch layers (linear and non-linear) you want."
      ],
      "metadata": {
        "id": "cMIjxZdzQfPz"
      }
    },
    {
      "cell_type": "code",
      "source": [
        "# Inherit from nn.Module to make a model capable of fitting the mooon data\n",
        "class MoonModelV0(nn.Module):\n",
        "    ## Your code here ##\n",
        "    def __init__(self, in_features, out_features, hidden_units):\n",
        "      super().__init__()\n",
        "      self.NN = nn.Sequential(\n",
        "        nn.Linear(in_features=in_features, out_features=hidden_units),\n",
        "        nn.ReLU(),\n",
        "        nn.Linear(in_features=hidden_units, out_features=hidden_units),\n",
        "        nn.ReLU(),\n",
        "        nn.Linear(in_features=hidden_units, out_features=out_features),\n",
        "        nn.ReLU()\n",
        "        )\n",
        "\n",
        "    def forward(self, X):\n",
        "        ## Your code here ##\n",
        "        return self.NN(X).squeeze()\n",
        "\n",
        "# Instantiate the model\n",
        "## Your code here ##\n",
        "torch.manual_seed(RANDOM_SEED)\n",
        "ModelV0 = MoonModelV0(2, 1, 10).to(device)\n",
        "ModelV0"
      ],
      "metadata": {
        "id": "hwtyvm34Ri6Q",
        "outputId": "11fabd61-be97-45c0-8c50-3c80f235a1e5",
        "colab": {
          "base_uri": "https://localhost:8080/"
        }
      },
      "execution_count": 678,
      "outputs": [
        {
          "output_type": "execute_result",
          "data": {
            "text/plain": [
              "MoonModelV0(\n",
              "  (NN): Sequential(\n",
              "    (0): Linear(in_features=2, out_features=10, bias=True)\n",
              "    (1): ReLU()\n",
              "    (2): Linear(in_features=10, out_features=10, bias=True)\n",
              "    (3): ReLU()\n",
              "    (4): Linear(in_features=10, out_features=1, bias=True)\n",
              "    (5): ReLU()\n",
              "  )\n",
              ")"
            ]
          },
          "metadata": {},
          "execution_count": 678
        }
      ]
    },
    {
      "cell_type": "code",
      "source": [
        "ModelV0.state_dict()"
      ],
      "metadata": {
        "id": "ii88TqVffRzT",
        "outputId": "6f9c482b-463b-48b1-b460-3ae220986891",
        "colab": {
          "base_uri": "https://localhost:8080/"
        }
      },
      "execution_count": 679,
      "outputs": [
        {
          "output_type": "execute_result",
          "data": {
            "text/plain": [
              "OrderedDict([('NN.0.weight',\n",
              "              tensor([[ 0.5406,  0.5869],\n",
              "                      [-0.1657,  0.6496],\n",
              "                      [-0.1549,  0.1427],\n",
              "                      [-0.3443,  0.4153],\n",
              "                      [ 0.6233, -0.5188],\n",
              "                      [ 0.6146,  0.1323],\n",
              "                      [ 0.5224,  0.0958],\n",
              "                      [ 0.3410, -0.0998],\n",
              "                      [ 0.5451,  0.1045],\n",
              "                      [-0.3301,  0.1802]])),\n",
              "             ('NN.0.bias',\n",
              "              tensor([-0.3258, -0.0829, -0.2872,  0.4691, -0.5582, -0.3260, -0.1997, -0.4252,\n",
              "                       0.0667, -0.6984])),\n",
              "             ('NN.2.weight',\n",
              "              tensor([[ 0.2856, -0.2686,  0.2441,  0.0526, -0.1027,  0.1954,  0.0493,  0.2555,\n",
              "                        0.0346, -0.0997],\n",
              "                      [ 0.0850, -0.0858,  0.1331,  0.2823,  0.1828, -0.1382,  0.1825,  0.0566,\n",
              "                        0.1606, -0.1927],\n",
              "                      [-0.3130, -0.1222, -0.2426,  0.2595,  0.0911,  0.1310,  0.1000, -0.0055,\n",
              "                        0.2475, -0.2247],\n",
              "                      [ 0.0199, -0.2158,  0.0975, -0.1089,  0.0969, -0.0659,  0.2623, -0.1874,\n",
              "                       -0.1886, -0.1886],\n",
              "                      [ 0.2844,  0.1054,  0.3043, -0.2610, -0.3137, -0.2474, -0.2127,  0.1281,\n",
              "                        0.1132,  0.2628],\n",
              "                      [-0.1633, -0.2156,  0.1678, -0.1278,  0.1919, -0.0750,  0.1809, -0.2457,\n",
              "                       -0.1596,  0.0964],\n",
              "                      [ 0.0669, -0.0806,  0.1885,  0.2150, -0.2293, -0.1688,  0.2896, -0.1067,\n",
              "                       -0.1121, -0.3060],\n",
              "                      [-0.1811,  0.0790, -0.0417, -0.2295,  0.0074, -0.2160, -0.2683, -0.1741,\n",
              "                       -0.2768, -0.2014],\n",
              "                      [ 0.3161,  0.0597,  0.0974, -0.2949, -0.2077, -0.1053,  0.0494, -0.2783,\n",
              "                       -0.1363, -0.1893],\n",
              "                      [ 0.0009, -0.1177, -0.0219, -0.2143, -0.2171, -0.1845, -0.1082, -0.2496,\n",
              "                        0.2651, -0.0628]])),\n",
              "             ('NN.2.bias',\n",
              "              tensor([ 0.2721,  0.0985, -0.2678,  0.2188, -0.0870, -0.1212, -0.2625, -0.3144,\n",
              "                       0.0905, -0.0691])),\n",
              "             ('NN.4.weight',\n",
              "              tensor([[ 0.1231, -0.2595,  0.2348, -0.2321, -0.0546,  0.0661,  0.1633,  0.2553,\n",
              "                        0.2881, -0.2507]])),\n",
              "             ('NN.4.bias', tensor([0.0796]))])"
            ]
          },
          "metadata": {},
          "execution_count": 679
        }
      ]
    },
    {
      "cell_type": "markdown",
      "source": [
        "## 3. Setup a binary classification compatible loss function and optimizer to use when training the model built in 2."
      ],
      "metadata": {
        "id": "DSj97RwyVeFE"
      }
    },
    {
      "cell_type": "code",
      "source": [
        "# Setup loss function\n",
        "loss_function = nn.BCEWithLogitsLoss()\n",
        "# Setup optimizer to optimize model's parameters\n",
        "optimizer = torch.optim.SGD(ModelV0.parameters(), lr = 0.05)"
      ],
      "metadata": {
        "id": "whSGw5qgVvxU"
      },
      "execution_count": 680,
      "outputs": []
    },
    {
      "cell_type": "markdown",
      "source": [
        "## 4. Create a training and testing loop to fit the model you created in 2 to the data you created in 1.\n",
        "  * Do a forward pass of the model to see what's coming out in the form of logits, prediction probabilities and labels.\n",
        "  * To measure model accuray, you can create your own accuracy function or use the accuracy function in [TorchMetrics](https://torchmetrics.readthedocs.io/en/latest/).\n",
        "  * Train the model for long enough for it to reach over 96% accuracy.\n",
        "  * The training loop should output progress every 10 epochs of the model's training and test set loss and accuracy."
      ],
      "metadata": {
        "id": "nvk4PfNTWUAt"
      }
    },
    {
      "cell_type": "code",
      "source": [
        "# What's coming out of our model?\n",
        "\n",
        "ModelV0.eval()\n",
        "with torch.inference_mode():\n",
        "  logits = ModelV0(X_train.to(device))[:10].squeeze()\n",
        "\n",
        "# logits (raw outputs of model)\n",
        "print(f\"Logits: {logits}\")\n",
        "## Your code here ##\n",
        "\n",
        "# Prediction probabilities\n",
        "probs = torch.sigmoid(logits)\n",
        "print(f\"Pred probs: {probs}\")\n",
        "## Your code here ##\n",
        "\n",
        "# Prediction labels\n",
        "label = torch.round(probs)\n",
        "print(f\"Pred labels: {label}\")\n",
        "## Your code here ##"
      ],
      "metadata": {
        "colab": {
          "base_uri": "https://localhost:8080/"
        },
        "id": "AgnFdlamd2-D",
        "outputId": "1530ea01-30bb-491f-f5b4-85db0d31fd52"
      },
      "execution_count": 681,
      "outputs": [
        {
          "output_type": "stream",
          "name": "stdout",
          "text": [
            "Logits: tensor([0.0274, 0.0250, 0.0017, 0.0075, 0.0022, 0.0005, 0.0015, 0.0278, 0.0284,\n",
            "        0.0054])\n",
            "Pred probs: tensor([0.5069, 0.5063, 0.5004, 0.5019, 0.5005, 0.5001, 0.5004, 0.5069, 0.5071,\n",
            "        0.5013])\n",
            "Pred labels: tensor([1., 1., 1., 1., 1., 1., 1., 1., 1., 1.])\n"
          ]
        }
      ]
    },
    {
      "cell_type": "code",
      "source": [
        "# Let's calculuate the accuracy using accuracy from TorchMetrics\n",
        "!pip -q install torchmetrics # Colab doesn't come with torchmetrics\n",
        "from torchmetrics import Accuracy\n",
        "\n",
        "## TODO: Uncomment this code to use the Accuracy function\n",
        "acc_fn = Accuracy(task=\"multiclass\", num_classes=2).to(device) # send accuracy function to device\n",
        "acc_fn"
      ],
      "metadata": {
        "id": "rUSDNHB4euoJ",
        "outputId": "ae7f165c-8393-4fe7-90b2-4b42aae2b4e1",
        "colab": {
          "base_uri": "https://localhost:8080/"
        }
      },
      "execution_count": 682,
      "outputs": [
        {
          "output_type": "execute_result",
          "data": {
            "text/plain": [
              "MulticlassAccuracy()"
            ]
          },
          "metadata": {},
          "execution_count": 682
        }
      ]
    },
    {
      "cell_type": "code",
      "source": [
        "# Setup epochs\n",
        "epochs = 10000\n",
        "\n",
        "# Send data to the device\n",
        "X_train, X_test, y_train, y_test = X_train.to(device), X_test.to(device), y_train.to(device), y_test.to(device)\n",
        "\n",
        "# Loop through the data\n",
        "for epoch in range(epochs):\n",
        "  ### Training\n",
        "\n",
        "  ModelV0.train()\n",
        "\n",
        "  # 1. Forward pass (logits output)\n",
        "  logits_train = ModelV0(X_train)\n",
        "\n",
        "  # Turn logits into prediction probabilities\n",
        "  pred_train = torch.sigmoid(logits_train)\n",
        "\n",
        "  # 2. Calculaute the loss\n",
        "  loss = loss_function(pred_train, y_train) # loss = compare model raw outputs to desired model outputs\n",
        "\n",
        "  # 3. Zero the gradients\n",
        "  optimizer.zero_grad()\n",
        "\n",
        "  # 4. Loss backward (perform backpropagation) - https://brilliant.org/wiki/backpropagation/#:~:text=Backpropagation%2C%20short%20for%20%22backward%20propagation,to%20the%20neural%20network's%20weights.\n",
        "  loss.backward()\n",
        "\n",
        "  # 5. Step the optimizer (gradient descent) - https://towardsdatascience.com/gradient-descent-algorithm-a-deep-dive-cf04e8115f21#:~:text=Gradient%20descent%20(GD)%20is%20an,e.g.%20in%20a%20linear%20regression)\n",
        "  optimizer.step()\n",
        "\n",
        "  ### Testing\n",
        "  if epoch % (epochs//20) == 0:\n",
        "\n",
        "    ModelV0.eval()\n",
        "    with torch.inference_mode():\n",
        "\n",
        "      # 1. Forward pass (to get the logits)\n",
        "      logits_test = ModelV0(X_test)\n",
        "\n",
        "      # Turn the test logits into prediction labels\n",
        "      pred_test = torch.sigmoid(logits_test)\n",
        "      label_pred_test = torch.round(pred_test).squeeze()\n",
        "\n",
        "      # 2. Caculate the test loss/acc\n",
        "      loss_test = loss_function(pred_test, y_test)\n",
        "      acc = acc_fn(label_pred_test, y_test.int()) # the accuracy function needs to compare pred labels (not logits) with actual labels\n",
        "\n",
        "      # Print out what's happening every 100 epochs\n",
        "      print(f\"Epochs: {epoch}  Loss: {loss_test:.3f}  Accuracy: {acc*100:.1f}%\")\n"
      ],
      "metadata": {
        "id": "SHBY3h7XXnxt",
        "outputId": "b667b1ed-49ad-43b1-d138-90ae3de27796",
        "colab": {
          "base_uri": "https://localhost:8080/"
        }
      },
      "execution_count": 683,
      "outputs": [
        {
          "output_type": "stream",
          "name": "stdout",
          "text": [
            "Epochs: 0  Loss: 0.725  Accuracy: 29.0%\n",
            "Epochs: 500  Loss: 0.724  Accuracy: 64.5%\n",
            "Epochs: 1000  Loss: 0.720  Accuracy: 75.5%\n",
            "Epochs: 1500  Loss: 0.708  Accuracy: 79.0%\n",
            "Epochs: 2000  Loss: 0.692  Accuracy: 86.0%\n",
            "Epochs: 2500  Loss: 0.680  Accuracy: 93.0%\n",
            "Epochs: 3000  Loss: 0.673  Accuracy: 93.5%\n",
            "Epochs: 3500  Loss: 0.669  Accuracy: 93.5%\n",
            "Epochs: 4000  Loss: 0.666  Accuracy: 95.0%\n",
            "Epochs: 4500  Loss: 0.664  Accuracy: 95.5%\n",
            "Epochs: 5000  Loss: 0.663  Accuracy: 95.5%\n",
            "Epochs: 5500  Loss: 0.661  Accuracy: 96.5%\n",
            "Epochs: 6000  Loss: 0.659  Accuracy: 96.5%\n",
            "Epochs: 6500  Loss: 0.658  Accuracy: 96.5%\n",
            "Epochs: 7000  Loss: 0.656  Accuracy: 96.5%\n",
            "Epochs: 7500  Loss: 0.654  Accuracy: 97.0%\n",
            "Epochs: 8000  Loss: 0.653  Accuracy: 97.0%\n",
            "Epochs: 8500  Loss: 0.651  Accuracy: 97.0%\n",
            "Epochs: 9000  Loss: 0.649  Accuracy: 98.0%\n",
            "Epochs: 9500  Loss: 0.649  Accuracy: 98.0%\n"
          ]
        }
      ]
    },
    {
      "cell_type": "markdown",
      "source": [
        "## 5. Make predictions with your trained model and plot them using the `plot_decision_boundary()` function created in this notebook."
      ],
      "metadata": {
        "id": "8Nwihtomj9JO"
      }
    },
    {
      "cell_type": "code",
      "source": [
        "import numpy as np\n",
        "\n",
        "# Plot the model predictions\n",
        "def plot_decision_boundary(model, X, y):\n",
        "\n",
        "    # Put everything to CPU (works better with NumPy + Matplotlib)\n",
        "    model.to(\"cpu\")\n",
        "    X, y = X.to(\"cpu\"), y.to(\"cpu\")\n",
        "\n",
        "    # Source - https://madewithml.com/courses/foundations/neural-networks/\n",
        "    # (with modifications)\n",
        "    x_min, x_max = X[:, 0].min() - 0.1, X[:, 0].max() + 0.1\n",
        "    y_min, y_max = X[:, 1].min() - 0.1, X[:, 1].max() + 0.1\n",
        "    xx, yy = np.meshgrid(np.linspace(x_min, x_max, 101),\n",
        "                         np.linspace(y_min, y_max, 101))\n",
        "\n",
        "    # Make features\n",
        "    X_to_pred_on = torch.from_numpy(np.column_stack((xx.ravel(), yy.ravel()))).float()\n",
        "\n",
        "    # Make predictions\n",
        "    model.eval()\n",
        "    with torch.inference_mode():\n",
        "        y_logits = model(X_to_pred_on)\n",
        "\n",
        "    # Test for multi-class or binary and adjust logits to prediction labels\n",
        "    if len(torch.unique(y)) > 2:\n",
        "        y_pred = torch.softmax(y_logits, dim=1).argmax(dim=1) # mutli-class\n",
        "    else:\n",
        "        y_pred = torch.round(torch.sigmoid(y_logits)) # binary\n",
        "\n",
        "    # Reshape preds and plot\n",
        "    y_pred = y_pred.reshape(xx.shape).detach().numpy()\n",
        "    plt.contourf(xx, yy, y_pred, cmap=plt.cm.RdYlBu, alpha=0.7)\n",
        "    plt.scatter(X[:, 0], X[:, 1], c=y, s=40, cmap=plt.cm.RdYlBu)\n",
        "    plt.xlim(xx.min(), xx.max())\n",
        "    plt.ylim(yy.min(), yy.max())"
      ],
      "metadata": {
        "id": "0YRzatb8a1P2"
      },
      "execution_count": 684,
      "outputs": []
    },
    {
      "cell_type": "code",
      "source": [
        "# Plot decision boundaries for training and test sets\n",
        "plot_decision_boundary(ModelV0, X, y)"
      ],
      "metadata": {
        "id": "PMrcpyirig1d",
        "outputId": "2290ce42-9759-4dbb-de1f-365ac7d957b2",
        "colab": {
          "base_uri": "https://localhost:8080/",
          "height": 430
        }
      },
      "execution_count": 685,
      "outputs": [
        {
          "output_type": "display_data",
          "data": {
            "text/plain": [
              "<Figure size 640x480 with 1 Axes>"
            ],
            "image/png": "[encoded data removed]"
          },
          "metadata": {}
        }
      ]
    },
    {
      "cell_type": "markdown",
      "source": [
        "## 6. Replicate the Tanh (hyperbolic tangent) activation function in pure PyTorch.\n",
        "  * Feel free to reference the [ML cheatsheet website](https://ml-cheatsheet.readthedocs.io/en/latest/activation_functions.html#tanh) for the formula."
      ],
      "metadata": {
        "id": "EtMYBvtciiAU"
      }
    },
    {
      "cell_type": "code",
      "source": [
        "# Create a straight line tensor\n",
        "line_X = torch.arange(-4, 4, 0.01)\n",
        "print(len(line_X), line_X.dtype)"
      ],
      "metadata": {
        "id": "BlXaWC5TkEUE",
        "outputId": "3a38f0b6-d1ed-4dc4-d635-7a464b64d848",
        "colab": {
          "base_uri": "https://localhost:8080/"
        }
      },
      "execution_count": 686,
      "outputs": [
        {
          "output_type": "stream",
          "name": "stdout",
          "text": [
            "800 torch.float32\n"
          ]
        }
      ]
    },
    {
      "cell_type": "code",
      "source": [
        "# Test torch.tanh() on the tensor and plot it\n",
        "tanh_y = line_X.tanh()\n",
        "plt.scatter(line_X, tanh_y, s=4, c=\"blue\")\n",
        "plt.show()"
      ],
      "metadata": {
        "id": "vZPCcQmIkZjO",
        "outputId": "a90520df-4a18-4021-fc9a-e4497c2293cc",
        "colab": {
          "base_uri": "https://localhost:8080/",
          "height": 430
        }
      },
      "execution_count": 687,
      "outputs": [
        {
          "output_type": "display_data",
          "data": {
            "text/plain": [
              "<Figure size 640x480 with 1 Axes>"
            ],
            "image/png": "[encoded data removed]"
          },
          "metadata": {}
        }
      ]
    },
    {
      "cell_type": "code",
      "source": [
        "# Replicate torch.tanh() and plot it\n",
        "tanh_y_rep = lambda x: (torch.exp(2*x) - 1) / (torch.exp(2*x) + 1)\n",
        "plt.scatter(line_X, tanh_y_rep(line_X), s=4, c=\"cyan\")\n",
        "plt.show()"
      ],
      "metadata": {
        "id": "J-ne__Kjkdc1",
        "outputId": "9a06cda4-131f-4e18-cda7-7f679e181e5c",
        "colab": {
          "base_uri": "https://localhost:8080/",
          "height": 430
        }
      },
      "execution_count": 688,
      "outputs": [
        {
          "output_type": "display_data",
          "data": {
            "text/plain": [
              "<Figure size 640x480 with 1 Axes>"
            ],
            "image/png": "[encoded data removed]"
          },
          "metadata": {}
        }
      ]
    },
    {
      "cell_type": "markdown",
      "source": [
        "## 7. Create a multi-class dataset using the [spirals data creation function from CS231n](https://cs231n.github.io/neural-networks-case-study/) (see below for the code).\n",
        "  * Split the data into training and test sets (80% train, 20% test) as well as turn it into PyTorch tensors.\n",
        "  * Construct a model capable of fitting the data (you may need a combination of linear and non-linear layers).\n",
        "  * Build a loss function and optimizer capable of handling multi-class data (optional extension: use the Adam optimizer instead of SGD, you may have to experiment with different values of the learning rate to get it working).\n",
        "  * Make a training and testing loop for the multi-class data and train a model on it to reach over 95% testing accuracy (you can use any accuracy measuring function here that you like) - 1000 epochs should be plenty.\n",
        "  * Plot the decision boundaries on the spirals dataset from your model predictions, the `plot_decision_boundary()` function should work for this dataset too."
      ],
      "metadata": {
        "id": "Lbt1bNcWk5G9"
      }
    },
    {
      "cell_type": "code",
      "source": [
        "# Code for creating a spiral dataset from CS231n\n",
        "RANDOM_SEED = 42\n",
        "np.random.seed(RANDOM_SEED)\n",
        "N = 100 # number of points per class\n",
        "D = 2 # dimensionality\n",
        "K = 3 # number of classes\n",
        "X = np.zeros((N*K,D)) # data matrix (each row = single example)\n",
        "y = np.zeros(N*K, dtype='uint8') # class labels\n",
        "for j in range(K):\n",
        "  ix = range(N*j,N*(j+1))\n",
        "  r = np.linspace(0.0,1,N) # radius\n",
        "  t = np.linspace(j*4,(j+1)*4,N) + np.random.randn(N)*0.2 # theta\n",
        "  X[ix] = np.c_[r*np.sin(t), r*np.cos(t)]\n",
        "  y[ix] = j\n",
        "# lets visualize the data\n",
        "plt.scatter(X[:, 0], X[:, 1], c=y, s=40, cmap=plt.cm.RdYlBu)\n",
        "plt.show()"
      ],
      "metadata": {
        "colab": {
          "base_uri": "https://localhost:8080/",
          "height": 430
        },
        "id": "tU-UNZsKlJls",
        "outputId": "f9dd2a12-8c82-49fc-d641-726a134e5a4c"
      },
      "execution_count": 689,
      "outputs": [
        {
          "output_type": "display_data",
          "data": {
            "text/plain": [
              "<Figure size 640x480 with 1 Axes>"
            ],
            "image/png": "[encoded data removed]"
          },
          "metadata": {}
        }
      ]
    },
    {
      "cell_type": "code",
      "source": [
        "# Turn data into tensors\n",
        "X = torch.from_numpy(X).type(torch.float) # features as float32\n",
        "y = torch.from_numpy(y).type(torch.LongTensor) # labels need to be of type long\n",
        "\n",
        "# Create train and test splits\n",
        "X_train, X_test, y_train, y_test = train_test_split(X, y, test_size=0.2, random_state=RANDOM_SEED, shuffle=True, stratify=y)"
      ],
      "metadata": {
        "id": "OWVrmkEyl0VP"
      },
      "execution_count": 690,
      "outputs": []
    },
    {
      "cell_type": "code",
      "source": [
        "frame = pd.DataFrame({\"X1\":X[:, 0], \"X2\":X[:, 1], \"label\": y})\n",
        "frame"
      ],
      "metadata": {
        "id": "8HW10q_YVN00",
        "outputId": "67852541-87de-490c-edeb-10aa80990efd",
        "colab": {
          "base_uri": "https://localhost:8080/",
          "height": 424
        }
      },
      "execution_count": 691,
      "outputs": [
        {
          "output_type": "execute_result",
          "data": {
            "text/plain": [
              "           X1        X2  label\n",
              "0    0.000000  0.000000      0\n",
              "1    0.000129  0.010100      0\n",
              "2    0.004218  0.019757      0\n",
              "3    0.012517  0.027597      0\n",
              "4    0.004628  0.040138      0\n",
              "..        ...       ...    ...\n",
              "295 -0.731319  0.621286      2\n",
              "296 -0.471405  0.847402      2\n",
              "297 -0.541631  0.816480      2\n",
              "298 -0.425397  0.893833      2\n",
              "299 -0.426342  0.904562      2\n",
              "\n",
              "[300 rows x 3 columns]"
            ],
            "text/html": [
              "\n",
              "  <div id=\"df-8563ad5d-610c-402c-bc51-a134913082ce\" class=\"colab-df-container\">\n",
              "    <div>\n",
              "<style scoped>\n",
              "    .dataframe tbody tr th:only-of-type {\n",
              "        vertical-align: middle;\n",
              "    }\n",
              "\n",
              "    .dataframe tbody tr th {\n",
              "        vertical-align: top;\n",
              "    }\n",
              "\n",
              "    .dataframe thead th {\n",
              "        text-align: right;\n",
              "    }\n",
              "</style>\n",
              "<table border=\"1\" class=\"dataframe\">\n",
              "  <thead>\n",
              "    <tr style=\"text-align: right;\">\n",
              "      <th></th>\n",
              "      <th>X1</th>\n",
              "      <th>X2</th>\n",
              "      <th>label</th>\n",
              "    </tr>\n",
              "  </thead>\n",
              "  <tbody>\n",
              "    <tr>\n",
              "      <th>0</th>\n",
              "      <td>0.000000</td>\n",
              "      <td>0.000000</td>\n",
              "      <td>0</td>\n",
              "    </tr>\n",
              "    <tr>\n",
              "      <th>1</th>\n",
              "      <td>0.000129</td>\n",
              "      <td>0.010100</td>\n",
              "      <td>0</td>\n",
              "    </tr>\n",
              "    <tr>\n",
              "      <th>2</th>\n",
              "      <td>0.004218</td>\n",
              "      <td>0.019757</td>\n",
              "      <td>0</td>\n",
              "    </tr>\n",
              "    <tr>\n",
              "      <th>3</th>\n",
              "      <td>0.012517</td>\n",
              "      <td>0.027597</td>\n",
              "      <td>0</td>\n",
              "    </tr>\n",
              "    <tr>\n",
              "      <th>4</th>\n",
              "      <td>0.004628</td>\n",
              "      <td>0.040138</td>\n",
              "      <td>0</td>\n",
              "    </tr>\n",
              "    <tr>\n",
              "      <th>...</th>\n",
              "      <td>...</td>\n",
              "      <td>...</td>\n",
              "      <td>...</td>\n",
              "    </tr>\n",
              "    <tr>\n",
              "      <th>295</th>\n",
              "      <td>-0.731319</td>\n",
              "      <td>0.621286</td>\n",
              "      <td>2</td>\n",
              "    </tr>\n",
              "    <tr>\n",
              "      <th>296</th>\n",
              "      <td>-0.471405</td>\n",
              "      <td>0.847402</td>\n",
              "      <td>2</td>\n",
              "    </tr>\n",
              "    <tr>\n",
              "      <th>297</th>\n",
              "      <td>-0.541631</td>\n",
              "      <td>0.816480</td>\n",
              "      <td>2</td>\n",
              "    </tr>\n",
              "    <tr>\n",
              "      <th>298</th>\n",
              "      <td>-0.425397</td>\n",
              "      <td>0.893833</td>\n",
              "      <td>2</td>\n",
              "    </tr>\n",
              "    <tr>\n",
              "      <th>299</th>\n",
              "      <td>-0.426342</td>\n",
              "      <td>0.904562</td>\n",
              "      <td>2</td>\n",
              "    </tr>\n",
              "  </tbody>\n",
              "</table>\n",
              "<p>300 rows × 3 columns</p>\n",
              "</div>\n",
              "    <div class=\"colab-df-buttons\">\n",
              "\n",
              "  <div class=\"colab-df-container\">\n",
              "    <button class=\"colab-df-convert\" onclick=\"convertToInteractive('df-8563ad5d-610c-402c-bc51-a134913082ce')\"\n",
              "            title=\"Convert this dataframe to an interactive table.\"\n",
              "            style=\"display:none;\">\n",
              "\n",
              "  <svg xmlns=\"http://www.w3.org/2000/svg\" height=\"24px\" viewBox=\"0 -960 960 960\">\n",
              "    <path d=\"M120-120v-720h720v720H120Zm60-500h600v-160H180v160Zm220 220h160v-160H400v160Zm0 220h160v-160H400v160ZM180-400h160v-160H180v160Zm440 0h160v-160H620v160ZM180-180h160v-160H180v160Zm440 0h160v-160H620v160Z\"/>\n",
              "  </svg>\n",
              "    </button>\n",
              "\n",
              "  <style>\n",
              "    .colab-df-container {\n",
              "      display:flex;\n",
              "      gap: 12px;\n",
              "    }\n",
              "\n",
              "    .colab-df-convert {\n",
              "      background-color: #E8F0FE;\n",
              "      border: none;\n",
              "      border-radius: 50%;\n",
              "      cursor: pointer;\n",
              "      display: none;\n",
              "      fill: #1967D2;\n",
              "      height: 32px;\n",
              "      padding: 0 0 0 0;\n",
              "      width: 32px;\n",
              "    }\n",
              "\n",
              "    .colab-df-convert:hover {\n",
              "      background-color: #E2EBFA;\n",
              "      box-shadow: 0px 1px 2px rgba(60, 64, 67, 0.3), 0px 1px 3px 1px rgba(60, 64, 67, 0.15);\n",
              "      fill: #174EA6;\n",
              "    }\n",
              "\n",
              "    .colab-df-buttons div {\n",
              "      margin-bottom: 4px;\n",
              "    }\n",
              "\n",
              "    [theme=dark] .colab-df-convert {\n",
              "      background-color: #3B4455;\n",
              "      fill: #D2E3FC;\n",
              "    }\n",
              "\n",
              "    [theme=dark] .colab-df-convert:hover {\n",
              "      background-color: #434B5C;\n",
              "      box-shadow: 0px 1px 3px 1px rgba(0, 0, 0, 0.15);\n",
              "      filter: drop-shadow(0px 1px 2px rgba(0, 0, 0, 0.3));\n",
              "      fill: #FFFFFF;\n",
              "    }\n",
              "  </style>\n",
              "\n",
              "    <script>\n",
              "      const buttonEl =\n",
              "        document.querySelector('#df-8563ad5d-610c-402c-bc51-a134913082ce button.colab-df-convert');\n",
              "      buttonEl.style.display =\n",
              "        google.colab.kernel.accessAllowed ? 'block' : 'none';\n",
              "\n",
              "      async function convertToInteractive(key) {\n",
              "        const element = document.querySelector('#df-8563ad5d-610c-402c-bc51-a134913082ce');\n",
              "        const dataTable =\n",
              "          await google.colab.kernel.invokeFunction('convertToInteractive',\n",
              "                                                    [key], {});\n",
              "        if (!dataTable) return;\n",
              "\n",
              "        const docLinkHtml = 'Like what you see? Visit the ' +\n",
              "          '<a target=\"_blank\" href=https://colab.research.google.com/notebooks/data_table.ipynb>data table notebook</a>'\n",
              "          + ' to learn more about interactive tables.';\n",
              "        element.innerHTML = '';\n",
              "        dataTable['output_type'] = 'display_data';\n",
              "        await google.colab.output.renderOutput(dataTable, element);\n",
              "        const docLink = document.createElement('div');\n",
              "        docLink.innerHTML = docLinkHtml;\n",
              "        element.appendChild(docLink);\n",
              "      }\n",
              "    </script>\n",
              "  </div>\n",
              "\n",
              "\n",
              "    <div id=\"df-ff3dc92c-936b-45a1-b5cb-1ed303f3fce9\">\n",
              "      <button class=\"colab-df-quickchart\" onclick=\"quickchart('df-ff3dc92c-936b-45a1-b5cb-1ed303f3fce9')\"\n",
              "                title=\"Suggest charts\"\n",
              "                style=\"display:none;\">\n",
              "\n",
              "<svg xmlns=\"http://www.w3.org/2000/svg\" height=\"24px\"viewBox=\"0 0 24 24\"\n",
              "     width=\"24px\">\n",
              "    <g>\n",
              "        <path d=\"M19 3H5c-1.1 0-2 .9-2 2v14c0 1.1.9 2 2 2h14c1.1 0 2-.9 2-2V5c0-1.1-.9-2-2-2zM9 17H7v-7h2v7zm4 0h-2V7h2v10zm4 0h-2v-4h2v4z\"/>\n",
              "    </g>\n",
              "</svg>\n",
              "      </button>\n",
              "\n",
              "<style>\n",
              "  .colab-df-quickchart {\n",
              "      --bg-color: #E8F0FE;\n",
              "      --fill-color: #1967D2;\n",
              "      --hover-bg-color: #E2EBFA;\n",
              "      --hover-fill-color: #174EA6;\n",
              "      --disabled-fill-color: #AAA;\n",
              "      --disabled-bg-color: #DDD;\n",
              "  }\n",
              "\n",
              "  [theme=dark] .colab-df-quickchart {\n",
              "      --bg-color: #3B4455;\n",
              "      --fill-color: #D2E3FC;\n",
              "      --hover-bg-color: #434B5C;\n",
              "      --hover-fill-color: #FFFFFF;\n",
              "      --disabled-bg-color: #3B4455;\n",
              "      --disabled-fill-color: #666;\n",
              "  }\n",
              "\n",
              "  .colab-df-quickchart {\n",
              "    background-color: var(--bg-color);\n",
              "    border: none;\n",
              "    border-radius: 50%;\n",
              "    cursor: pointer;\n",
              "    display: none;\n",
              "    fill: var(--fill-color);\n",
              "    height: 32px;\n",
              "    padding: 0;\n",
              "    width: 32px;\n",
              "  }\n",
              "\n",
              "  .colab-df-quickchart:hover {\n",
              "    background-color: var(--hover-bg-color);\n",
              "    box-shadow: 0 1px 2px rgba(60, 64, 67, 0.3), 0 1px 3px 1px rgba(60, 64, 67, 0.15);\n",
              "    fill: var(--button-hover-fill-color);\n",
              "  }\n",
              "\n",
              "  .colab-df-quickchart-complete:disabled,\n",
              "  .colab-df-quickchart-complete:disabled:hover {\n",
              "    background-color: var(--disabled-bg-color);\n",
              "    fill: var(--disabled-fill-color);\n",
              "    box-shadow: none;\n",
              "  }\n",
              "\n",
              "  .colab-df-spinner {\n",
              "    border: 2px solid var(--fill-color);\n",
              "    border-color: transparent;\n",
              "    border-bottom-color: var(--fill-color);\n",
              "    animation:\n",
              "      spin 1s steps(1) infinite;\n",
              "  }\n",
              "\n",
              "  @keyframes spin {\n",
              "    0% {\n",
              "      border-color: transparent;\n",
              "      border-bottom-color: var(--fill-color);\n",
              "      border-left-color: var(--fill-color);\n",
              "    }\n",
              "    20% {\n",
              "      border-color: transparent;\n",
              "      border-left-color: var(--fill-color);\n",
              "      border-top-color: var(--fill-color);\n",
              "    }\n",
              "    30% {\n",
              "      border-color: transparent;\n",
              "      border-left-color: var(--fill-color);\n",
              "      border-top-color: var(--fill-color);\n",
              "      border-right-color: var(--fill-color);\n",
              "    }\n",
              "    40% {\n",
              "      border-color: transparent;\n",
              "      border-right-color: var(--fill-color);\n",
              "      border-top-color: var(--fill-color);\n",
              "    }\n",
              "    60% {\n",
              "      border-color: transparent;\n",
              "      border-right-color: var(--fill-color);\n",
              "    }\n",
              "    80% {\n",
              "      border-color: transparent;\n",
              "      border-right-color: var(--fill-color);\n",
              "      border-bottom-color: var(--fill-color);\n",
              "    }\n",
              "    90% {\n",
              "      border-color: transparent;\n",
              "      border-bottom-color: var(--fill-color);\n",
              "    }\n",
              "  }\n",
              "</style>\n",
              "\n",
              "      <script>\n",
              "        async function quickchart(key) {\n",
              "          const quickchartButtonEl =\n",
              "            document.querySelector('#' + key + ' button');\n",
              "          quickchartButtonEl.disabled = true;  // To prevent multiple clicks.\n",
              "          quickchartButtonEl.classList.add('colab-df-spinner');\n",
              "          try {\n",
              "            const charts = await google.colab.kernel.invokeFunction(\n",
              "                'suggestCharts', [key], {});\n",
              "          } catch (error) {\n",
              "            console.error('Error during call to suggestCharts:', error);\n",
              "          }\n",
              "          quickchartButtonEl.classList.remove('colab-df-spinner');\n",
              "          quickchartButtonEl.classList.add('colab-df-quickchart-complete');\n",
              "        }\n",
              "        (() => {\n",
              "          let quickchartButtonEl =\n",
              "            document.querySelector('#df-ff3dc92c-936b-45a1-b5cb-1ed303f3fce9 button');\n",
              "          quickchartButtonEl.style.display =\n",
              "            google.colab.kernel.accessAllowed ? 'block' : 'none';\n",
              "        })();\n",
              "      </script>\n",
              "    </div>\n",
              "\n",
              "  <div id=\"id_6eee2f74-1bba-4110-b881-a416be83b30d\">\n",
              "    <style>\n",
              "      .colab-df-generate {\n",
              "        background-color: #E8F0FE;\n",
              "        border: none;\n",
              "        border-radius: 50%;\n",
              "        cursor: pointer;\n",
              "        display: none;\n",
              "        fill: #1967D2;\n",
              "        height: 32px;\n",
              "        padding: 0 0 0 0;\n",
              "        width: 32px;\n",
              "      }\n",
              "\n",
              "      .colab-df-generate:hover {\n",
              "        background-color: #E2EBFA;\n",
              "        box-shadow: 0px 1px 2px rgba(60, 64, 67, 0.3), 0px 1px 3px 1px rgba(60, 64, 67, 0.15);\n",
              "        fill: #174EA6;\n",
              "      }\n",
              "\n",
              "      [theme=dark] .colab-df-generate {\n",
              "        background-color: #3B4455;\n",
              "        fill: #D2E3FC;\n",
              "      }\n",
              "\n",
              "      [theme=dark] .colab-df-generate:hover {\n",
              "        background-color: #434B5C;\n",
              "        box-shadow: 0px 1px 3px 1px rgba(0, 0, 0, 0.15);\n",
              "        filter: drop-shadow(0px 1px 2px rgba(0, 0, 0, 0.3));\n",
              "        fill: #FFFFFF;\n",
              "      }\n",
              "    </style>\n",
              "    <button class=\"colab-df-generate\" onclick=\"generateWithVariable('frame')\"\n",
              "            title=\"Generate code using this dataframe.\"\n",
              "            style=\"display:none;\">\n",
              "\n",
              "  <svg xmlns=\"http://www.w3.org/2000/svg\" height=\"24px\"viewBox=\"0 0 24 24\"\n",
              "       width=\"24px\">\n",
              "    <path d=\"M7,19H8.4L18.45,9,17,7.55,7,17.6ZM5,21V16.75L18.45,3.32a2,2,0,0,1,2.83,0l1.4,1.43a1.91,1.91,0,0,1,.58,1.4,1.91,1.91,0,0,1-.58,1.4L9.25,21ZM18.45,9,17,7.55Zm-12,3A5.31,5.31,0,0,0,4.9,8.1,5.31,5.31,0,0,0,1,6.5,5.31,5.31,0,0,0,4.9,4.9,5.31,5.31,0,0,0,6.5,1,5.31,5.31,0,0,0,8.1,4.9,5.31,5.31,0,0,0,12,6.5,5.46,5.46,0,0,0,6.5,12Z\"/>\n",
              "  </svg>\n",
              "    </button>\n",
              "    <script>\n",
              "      (() => {\n",
              "      const buttonEl =\n",
              "        document.querySelector('#id_6eee2f74-1bba-4110-b881-a416be83b30d button.colab-df-generate');\n",
              "      buttonEl.style.display =\n",
              "        google.colab.kernel.accessAllowed ? 'block' : 'none';\n",
              "\n",
              "      buttonEl.onclick = () => {\n",
              "        google.colab.notebook.generateWithVariable('frame');\n",
              "      }\n",
              "      })();\n",
              "    </script>\n",
              "  </div>\n",
              "\n",
              "    </div>\n",
              "  </div>\n"
            ],
            "application/vnd.google.colaboratory.intrinsic+json": {
              "type": "dataframe",
              "variable_name": "frame",
              "summary": "{\n  \"name\": \"frame\",\n  \"rows\": 300,\n  \"fields\": [\n    {\n      \"column\": \"X1\",\n      \"properties\": {\n        \"dtype\": \"float32\",\n        \"num_unique_values\": 298,\n        \"samples\": [\n          -0.032638274133205414,\n          -0.666664719581604,\n          -0.5018478631973267\n        ],\n        \"semantic_type\": \"\",\n        \"description\": \"\"\n      }\n    },\n    {\n      \"column\": \"X2\",\n      \"properties\": {\n        \"dtype\": \"float32\",\n        \"num_unique_values\": 298,\n        \"samples\": [\n          0.6051811575889587,\n          -0.0016169052105396986,\n          -0.26099053025245667\n        ],\n        \"semantic_type\": \"\",\n        \"description\": \"\"\n      }\n    },\n    {\n      \"column\": \"label\",\n      \"properties\": {\n        \"dtype\": \"number\",\n        \"std\": 0,\n        \"min\": 0,\n        \"max\": 2,\n        \"num_unique_values\": 3,\n        \"samples\": [\n          0,\n          1,\n          2\n        ],\n        \"semantic_type\": \"\",\n        \"description\": \"\"\n      }\n    }\n  ]\n}"
            }
          },
          "metadata": {},
          "execution_count": 691
        }
      ]
    },
    {
      "cell_type": "code",
      "source": [
        "# Let's calculuate the accuracy for when we fit our model\n",
        "\n",
        "## TODO: uncomment the two lines below to send the accuracy function to the device\n",
        "acc_fn = Accuracy(task=\"multiclass\", num_classes=3).to(device)\n",
        "acc_fn"
      ],
      "metadata": {
        "id": "a-v-7f0op0tG",
        "outputId": "e5b8f08f-cdc1-4aac-bcdb-c69aff289b2c",
        "colab": {
          "base_uri": "https://localhost:8080/"
        }
      },
      "execution_count": 692,
      "outputs": [
        {
          "output_type": "execute_result",
          "data": {
            "text/plain": [
              "MulticlassAccuracy()"
            ]
          },
          "metadata": {},
          "execution_count": 692
        }
      ]
    },
    {
      "cell_type": "code",
      "source": [
        "# Prepare device agnostic code\n",
        "device = \"cuda\" if torch.cuda.is_available() else \"cpu\"\n",
        "\n",
        "# Create model by subclassing nn.Module\n",
        "class MulticlassModel(nn.Module):\n",
        "\n",
        "  def __init__(self, in_features, out_features, hidden_units):\n",
        "    super().__init__()\n",
        "    self.net = nn.Sequential(\n",
        "        nn.Linear(in_features=in_features, out_features=hidden_units),\n",
        "        nn.ReLU(),\n",
        "        nn.Linear(in_features=hidden_units, out_features=hidden_units),\n",
        "        nn.ReLU(),\n",
        "        nn.Linear(in_features=hidden_units, out_features=out_features),\n",
        "        nn.ReLU()\n",
        "    )\n",
        "\n",
        "  def forward(self, X):\n",
        "    return self.net(X).squeeze()\n",
        "\n",
        "# Instantiate model and send it to device\n",
        "torch.manual_seed(RANDOM_SEED)\n",
        "ModelV1 = MulticlassModel(2, 3, 20).to(device)\n",
        "ModelV1"
      ],
      "metadata": {
        "id": "DB3u3ldumapf",
        "outputId": "87fe4bc3-319f-42f3-e878-bc69ffba17d9",
        "colab": {
          "base_uri": "https://localhost:8080/"
        }
      },
      "execution_count": 693,
      "outputs": [
        {
          "output_type": "execute_result",
          "data": {
            "text/plain": [
              "MulticlassModel(\n",
              "  (net): Sequential(\n",
              "    (0): Linear(in_features=2, out_features=20, bias=True)\n",
              "    (1): ReLU()\n",
              "    (2): Linear(in_features=20, out_features=20, bias=True)\n",
              "    (3): ReLU()\n",
              "    (4): Linear(in_features=20, out_features=3, bias=True)\n",
              "    (5): ReLU()\n",
              "  )\n",
              ")"
            ]
          },
          "metadata": {},
          "execution_count": 693
        }
      ]
    },
    {
      "cell_type": "code",
      "source": [
        "ModelV1.state_dict()"
      ],
      "metadata": {
        "id": "rnhYlsftE29I",
        "outputId": "c7bbfde2-ff1d-481b-f45e-3943e3bcc560",
        "colab": {
          "base_uri": "https://localhost:8080/"
        }
      },
      "execution_count": 694,
      "outputs": [
        {
          "output_type": "execute_result",
          "data": {
            "text/plain": [
              "OrderedDict([('net.0.weight',\n",
              "              tensor([[ 0.5406,  0.5869],\n",
              "                      [-0.1657,  0.6496],\n",
              "                      [-0.1549,  0.1427],\n",
              "                      [-0.3443,  0.4153],\n",
              "                      [ 0.6233, -0.5188],\n",
              "                      [ 0.6146,  0.1323],\n",
              "                      [ 0.5224,  0.0958],\n",
              "                      [ 0.3410, -0.0998],\n",
              "                      [ 0.5451,  0.1045],\n",
              "                      [-0.3301,  0.1802],\n",
              "                      [-0.3258, -0.0829],\n",
              "                      [-0.2872,  0.4691],\n",
              "                      [-0.5582, -0.3260],\n",
              "                      [-0.1997, -0.4252],\n",
              "                      [ 0.0667, -0.6984],\n",
              "                      [ 0.6386, -0.6007],\n",
              "                      [ 0.5459,  0.1177],\n",
              "                      [-0.2296,  0.4370],\n",
              "                      [ 0.1102,  0.5713],\n",
              "                      [ 0.0773, -0.2230]])),\n",
              "             ('net.0.bias',\n",
              "              tensor([ 0.1900, -0.1918,  0.2976,  0.6313,  0.4087, -0.3091,  0.4082,  0.1265,\n",
              "                       0.3591, -0.4310, -0.7000, -0.2732, -0.5424,  0.5802,  0.2037,  0.2929,\n",
              "                       0.2236, -0.0123,  0.5534, -0.5024])),\n",
              "             ('net.2.weight',\n",
              "              tensor([[ 0.0141, -0.1526,  0.0689, -0.0770,  0.0685, -0.0466,  0.1855, -0.1325,\n",
              "                       -0.1334, -0.1334,  0.2011,  0.0745,  0.2152, -0.1845, -0.2218, -0.1749,\n",
              "                       -0.1504,  0.0906,  0.0801,  0.1858],\n",
              "                      [-0.1155, -0.1524,  0.1186, -0.0904,  0.1357, -0.0531,  0.1279, -0.1737,\n",
              "                       -0.1128,  0.0682,  0.0473, -0.0570,  0.1333,  0.1520, -0.1622, -0.1194,\n",
              "                        0.2047, -0.0755, -0.0793, -0.2164],\n",
              "                      [-0.1281,  0.0559, -0.0295, -0.1623,  0.0052, -0.1527, -0.1897, -0.1231,\n",
              "                       -0.1957, -0.1424,  0.2235,  0.0422,  0.0689, -0.2086, -0.1469, -0.0744,\n",
              "                        0.0350, -0.1968, -0.0963, -0.1339],\n",
              "                      [ 0.0006, -0.0832, -0.0155, -0.1515, -0.1535, -0.1305, -0.0765, -0.1765,\n",
              "                        0.1875, -0.0444,  0.1924,  0.0697, -0.1893,  0.1547, -0.0615, -0.0857,\n",
              "                       -0.1856, -0.2223,  0.0640, -0.0488],\n",
              "                      [ 0.0871, -0.1835,  0.1660, -0.1641, -0.0386,  0.0467,  0.1154,  0.1805,\n",
              "                        0.2037, -0.1773,  0.0563, -0.0962, -0.0245, -0.1674,  0.2037, -0.1641,\n",
              "                        0.1195,  0.0786,  0.0727, -0.1209],\n",
              "                      [ 0.2032,  0.0491,  0.0288, -0.1971,  0.0939, -0.0335, -0.1024,  0.1921,\n",
              "                        0.0499, -0.1237, -0.1132, -0.0107,  0.1249, -0.0571, -0.1276, -0.0766,\n",
              "                       -0.1671,  0.0797,  0.1731, -0.2105],\n",
              "                      [ 0.0519,  0.1155,  0.0405, -0.0796,  0.1167,  0.1175,  0.0836, -0.0393,\n",
              "                       -0.0592,  0.0239, -0.0395, -0.0666,  0.1429,  0.1922, -0.0221, -0.0501,\n",
              "                        0.0033, -0.0134,  0.0538,  0.0627],\n",
              "                      [-0.2031, -0.0825,  0.1883,  0.0871, -0.0111, -0.1348, -0.1368, -0.2003,\n",
              "                       -0.0729,  0.0755,  0.1426,  0.1032, -0.1977, -0.1345, -0.0353,  0.2163,\n",
              "                        0.0323, -0.0579,  0.0925, -0.0852],\n",
              "                      [-0.1447,  0.1632, -0.1017, -0.0448, -0.2224,  0.1497,  0.1694,  0.0815,\n",
              "                       -0.1559, -0.2207, -0.1816,  0.1667,  0.1074,  0.1882,  0.1171,  0.0566,\n",
              "                       -0.0022, -0.1701, -0.1916, -0.2092],\n",
              "                      [ 0.0915, -0.1098, -0.0450, -0.1287, -0.0407, -0.1574, -0.1461,  0.0742,\n",
              "                       -0.0665,  0.1380, -0.0717, -0.1640, -0.0395, -0.1084, -0.0684, -0.2129,\n",
              "                        0.1251, -0.1557,  0.1124,  0.1015],\n",
              "                      [ 0.1598, -0.1715,  0.1608, -0.1057,  0.0830,  0.2100, -0.0315, -0.0017,\n",
              "                       -0.0515, -0.1867,  0.1073, -0.2220,  0.1388,  0.1673,  0.2115, -0.0527,\n",
              "                       -0.1837,  0.0503,  0.1235, -0.2226],\n",
              "                      [-0.0508, -0.1340, -0.0196, -0.1101, -0.0914, -0.0710, -0.2125,  0.1835,\n",
              "                        0.1875, -0.0351, -0.0255, -0.0913, -0.2019, -0.2176,  0.0831, -0.1228,\n",
              "                       -0.1438, -0.0174, -0.0745, -0.0723],\n",
              "                      [ 0.0072, -0.0474, -0.0770, -0.1071, -0.1820,  0.1875, -0.0895,  0.0593,\n",
              "                       -0.0776,  0.0182,  0.2085,  0.1030, -0.1938,  0.0888,  0.2123,  0.0588,\n",
              "                        0.1499,  0.2205, -0.0343,  0.0464],\n",
              "                      [-0.1554, -0.0461,  0.1656,  0.1146, -0.1415, -0.1793, -0.1528, -0.2207,\n",
              "                       -0.1725, -0.0553,  0.1509,  0.0374, -0.1701, -0.1794,  0.1112, -0.1663,\n",
              "                       -0.0275,  0.1073, -0.1035, -0.0244],\n",
              "                      [-0.0195, -0.0529, -0.1134, -0.1993, -0.1808, -0.1197,  0.2160, -0.1080,\n",
              "                       -0.1502,  0.0542,  0.0616,  0.1225,  0.1700,  0.1245, -0.2217,  0.0198,\n",
              "                        0.1355, -0.0207, -0.1318,  0.2132],\n",
              "                      [-0.0836, -0.1273, -0.2016,  0.0100,  0.0991,  0.0495,  0.0442, -0.1696,\n",
              "                       -0.2088,  0.0039,  0.2039,  0.1290, -0.1302, -0.0290, -0.1648, -0.1079,\n",
              "                        0.0405,  0.1218,  0.1852, -0.2053],\n",
              "                      [ 0.1495, -0.1577,  0.0837,  0.1892,  0.0031,  0.2034, -0.1905, -0.0854,\n",
              "                        0.1304, -0.0487, -0.0458, -0.0932,  0.1541,  0.1097,  0.0717, -0.1257,\n",
              "                       -0.1815,  0.0242,  0.0662, -0.1032],\n",
              "                      [-0.0626,  0.1510,  0.0178,  0.0101, -0.0550, -0.2025, -0.2102, -0.1069,\n",
              "                       -0.1137,  0.0697, -0.0651, -0.0875,  0.2132,  0.0779,  0.1594, -0.1083,\n",
              "                       -0.0913,  0.0822, -0.1490, -0.1462],\n",
              "                      [-0.0108, -0.0818, -0.1676,  0.1326,  0.1798,  0.0363, -0.0389, -0.2071,\n",
              "                       -0.0814,  0.0569,  0.1054, -0.0283, -0.0884,  0.1246, -0.1781,  0.1413,\n",
              "                       -0.0867,  0.0034, -0.0442,  0.0271],\n",
              "                      [-0.0676,  0.1626, -0.0058,  0.1745,  0.2150, -0.1089, -0.1631,  0.1794,\n",
              "                        0.1752, -0.1707, -0.0173, -0.2205, -0.1830,  0.0432,  0.0595,  0.0474,\n",
              "                       -0.0609,  0.2063,  0.0320, -0.1319]])),\n",
              "             ('net.2.bias',\n",
              "              tensor([-0.0127,  0.0537,  0.0783, -0.1581,  0.0838, -0.1142, -0.1858, -0.1221,\n",
              "                       0.2156,  0.1912,  0.2002,  0.1313,  0.1689, -0.0299, -0.1230,  0.1117,\n",
              "                      -0.1159, -0.1509, -0.0714,  0.0469])),\n",
              "             ('net.4.weight',\n",
              "              tensor([[ 0.1151, -0.0869, -0.1316,  0.0302, -0.1318, -0.1456,  0.1166, -0.0376,\n",
              "                        0.2043,  0.2175,  0.0669,  0.0770,  0.0515,  0.0035, -0.0163,  0.0031,\n",
              "                        0.0835,  0.2079, -0.0579, -0.0945],\n",
              "                      [-0.0541, -0.1080,  0.0380,  0.1669,  0.1749,  0.1027, -0.1646, -0.1200,\n",
              "                       -0.0491, -0.0412,  0.0184, -0.2053,  0.0696, -0.1706, -0.1415, -0.1859,\n",
              "                        0.1948, -0.2117,  0.1687, -0.0075],\n",
              "                      [-0.0260,  0.1399, -0.0207,  0.1402,  0.1617, -0.1941,  0.0860,  0.0422,\n",
              "                        0.0481,  0.0326,  0.0612, -0.1076, -0.0286,  0.2125,  0.1502, -0.0084,\n",
              "                       -0.2103,  0.0098, -0.1523,  0.1818]])),\n",
              "             ('net.4.bias', tensor([-0.1357, -0.0161, -0.0496]))])"
            ]
          },
          "metadata": {},
          "execution_count": 694
        }
      ]
    },
    {
      "cell_type": "code",
      "source": [
        "# Setup data to be device agnostic\n",
        "X_train, X_test, y_train, y_test = X_train.to(device), X_test.to(device), y_train.to(device), y_test.to(device)\n",
        "\n",
        "# Print out first 10 untrained model outputs (forward pass)\n",
        "ModelV1.eval()\n",
        "with torch.inference_mode():\n",
        "  logits = ModelV1(X_train)[:10]\n",
        "\n",
        "print(f\"Logits: {logits}\")\n",
        "## Your code here ##\n",
        "\n",
        "preds = torch.softmax(logits, dim=1)\n",
        "print(f\"Pred probs: {preds}\")\n",
        "## Your code here ##\n",
        "\n",
        "pred_labels = torch.argmax(preds, dim=1)\n",
        "print(f\"Pred labels: {pred_labels.int()}\")\n",
        "## Your code here ##"
      ],
      "metadata": {
        "colab": {
          "base_uri": "https://localhost:8080/"
        },
        "id": "QE7XWSSunMTS",
        "outputId": "6af4a6b8-61db-4deb-b286-b689a3f003d7"
      },
      "execution_count": 695,
      "outputs": [
        {
          "output_type": "stream",
          "name": "stdout",
          "text": [
            "Logits: tensor([[0.0000, 0.0281, 0.0877],\n",
            "        [0.0000, 0.0453, 0.0591],\n",
            "        [0.0000, 0.0039, 0.0534],\n",
            "        [0.0000, 0.0546, 0.1060],\n",
            "        [0.0000, 0.0613, 0.1148],\n",
            "        [0.0000, 0.0094, 0.0000],\n",
            "        [0.0000, 0.0339, 0.0914],\n",
            "        [0.0000, 0.0000, 0.0000],\n",
            "        [0.0000, 0.0339, 0.0281],\n",
            "        [0.0000, 0.0096, 0.0627]])\n",
            "Pred probs: tensor([[0.3205, 0.3296, 0.3499],\n",
            "        [0.3218, 0.3367, 0.3414],\n",
            "        [0.3269, 0.3282, 0.3449],\n",
            "        [0.3157, 0.3334, 0.3510],\n",
            "        [0.3140, 0.3338, 0.3522],\n",
            "        [0.3323, 0.3354, 0.3323],\n",
            "        [0.3195, 0.3305, 0.3500],\n",
            "        [0.3333, 0.3333, 0.3333],\n",
            "        [0.3265, 0.3377, 0.3358],\n",
            "        [0.3253, 0.3284, 0.3463]])\n",
            "Pred labels: tensor([2, 2, 2, 2, 2, 1, 2, 0, 1, 2], dtype=torch.int32)\n"
          ]
        }
      ]
    },
    {
      "cell_type": "code",
      "source": [
        "# Setup loss function and optimizer\n",
        "loss_fn = nn.CrossEntropyLoss()\n",
        "optimizer = torch.optim.Adam(ModelV1.parameters(), lr=0.01)"
      ],
      "metadata": {
        "id": "54EqLRKLo0AW"
      },
      "execution_count": 696,
      "outputs": []
    },
    {
      "cell_type": "code",
      "source": [
        "# Build a training loop for the model\n",
        "\n",
        "# Loop over data\n",
        "epochs = 1000\n",
        "\n",
        "for epoch in range(epochs):\n",
        "\n",
        "  ## Training\n",
        "  ModelV1.train()\n",
        "\n",
        "  # 1. Forward pass\n",
        "  logits_train = ModelV1(X_train)\n",
        "\n",
        "  # 2. Calculate the loss\n",
        "  loss = loss_fn(logits_train, y_train)\n",
        "\n",
        "  # 3. Optimizer zero grad\n",
        "  optimizer.zero_grad()\n",
        "\n",
        "  # 4. Loss backward\n",
        "  loss.backward()\n",
        "\n",
        "  # 5. Optimizer step\n",
        "  optimizer.step()\n",
        "\n",
        "  ## Testing\n",
        "  if epoch % (epochs//20) == 0:\n",
        "\n",
        "    ModelV1.eval()\n",
        "    with torch.inference_mode():\n",
        "\n",
        "      # 1. Forward pass\n",
        "      logits_test = ModelV1(X_test)\n",
        "      preds_test = torch.softmax(logits_test, dim=1)\n",
        "      pred_labels = torch.argmax(preds_test, dim=1)\n",
        "\n",
        "      # 2. Caculate loss and acc\n",
        "      loss_test = loss_fn(logits_test, y_test)\n",
        "      acc = acc_fn(pred_labels, y_test.int())\n",
        "\n",
        "      # Print out what's happening every 100 epochs\n",
        "      print(f\"Epochs: {epoch} Loss: {loss_test:.2f} Accuracy: {100*acc:.1f}%\")"
      ],
      "metadata": {
        "id": "vIlExkUHnmxi",
        "outputId": "bf2f19e4-67ab-47cb-e039-02221ad8174a",
        "colab": {
          "base_uri": "https://localhost:8080/"
        }
      },
      "execution_count": 697,
      "outputs": [
        {
          "output_type": "stream",
          "name": "stdout",
          "text": [
            "Epochs: 0 Loss: 1.09 Accuracy: 46.7%\n",
            "Epochs: 50 Loss: 0.55 Accuracy: 68.3%\n",
            "Epochs: 100 Loss: 0.16 Accuracy: 96.7%\n",
            "Epochs: 150 Loss: 0.09 Accuracy: 96.7%\n",
            "Epochs: 200 Loss: 0.07 Accuracy: 96.7%\n",
            "Epochs: 250 Loss: 0.07 Accuracy: 98.3%\n",
            "Epochs: 300 Loss: 0.07 Accuracy: 98.3%\n",
            "Epochs: 350 Loss: 0.07 Accuracy: 98.3%\n",
            "Epochs: 400 Loss: 0.07 Accuracy: 98.3%\n",
            "Epochs: 450 Loss: 0.07 Accuracy: 98.3%\n",
            "Epochs: 500 Loss: 0.07 Accuracy: 98.3%\n",
            "Epochs: 550 Loss: 0.07 Accuracy: 98.3%\n",
            "Epochs: 600 Loss: 0.07 Accuracy: 98.3%\n",
            "Epochs: 650 Loss: 0.07 Accuracy: 98.3%\n",
            "Epochs: 700 Loss: 0.07 Accuracy: 98.3%\n",
            "Epochs: 750 Loss: 0.08 Accuracy: 98.3%\n",
            "Epochs: 800 Loss: 0.08 Accuracy: 98.3%\n",
            "Epochs: 850 Loss: 0.08 Accuracy: 96.7%\n",
            "Epochs: 900 Loss: 0.08 Accuracy: 96.7%\n",
            "Epochs: 950 Loss: 0.08 Accuracy: 96.7%\n"
          ]
        }
      ]
    },
    {
      "cell_type": "code",
      "source": [
        "# Print out first 10 untrained model outputs (forward pass)\n",
        "ModelV1.eval()\n",
        "with torch.inference_mode():\n",
        "  logits = ModelV1(X_train)[:10]\n",
        "\n",
        "print(f\"Logits: {logits}\")\n",
        "## Your code here ##\n",
        "\n",
        "preds = torch.softmax(logits, dim=1)\n",
        "print(f\"Pred probs: {preds}\")\n",
        "## Your code here ##\n",
        "\n",
        "pred_labels = torch.argmax(preds, dim=1)\n",
        "print(f\"Pred labels: {pred_labels.int()}\")\n",
        "## Your code here ##"
      ],
      "metadata": {
        "id": "82q-pQYObADu",
        "outputId": "536b2658-ecd1-467a-e0db-e409b7cdeced",
        "colab": {
          "base_uri": "https://localhost:8080/"
        }
      },
      "execution_count": 698,
      "outputs": [
        {
          "output_type": "stream",
          "name": "stdout",
          "text": [
            "Logits: tensor([[14.3964,  0.0000,  3.5034],\n",
            "        [ 2.7019, 20.3090,  0.0000],\n",
            "        [ 0.4503,  0.0000, 11.4428],\n",
            "        [ 1.9240, 10.1667,  1.3754],\n",
            "        [ 0.0000, 14.6435,  0.7413],\n",
            "        [ 0.0000,  0.0000, 14.2703],\n",
            "        [11.9143,  0.0000,  3.0582],\n",
            "        [ 0.0000,  0.0000, 11.1645],\n",
            "        [ 4.3754, 14.1311,  0.0000],\n",
            "        [ 2.9284,  0.0370, 13.1007]])\n",
            "Pred probs: tensor([[9.9998e-01, 5.5938e-07, 1.8588e-05],\n",
            "        [2.2560e-08, 1.0000e+00, 1.5132e-09],\n",
            "        [1.6827e-05, 1.0726e-05, 9.9997e-01],\n",
            "        [2.6306e-04, 9.9958e-01, 1.5198e-04],\n",
            "        [4.3691e-07, 1.0000e+00, 9.1696e-07],\n",
            "        [6.3460e-07, 6.3460e-07, 1.0000e+00],\n",
            "        [9.9985e-01, 6.6928e-06, 1.4248e-04],\n",
            "        [1.4168e-05, 1.4168e-05, 9.9997e-01],\n",
            "        [5.7955e-05, 9.9994e-01, 7.2928e-07],\n",
            "        [3.8213e-05, 2.1208e-06, 9.9996e-01]])\n",
            "Pred labels: tensor([0, 1, 2, 1, 1, 2, 0, 2, 1, 2], dtype=torch.int32)\n"
          ]
        }
      ]
    },
    {
      "cell_type": "code",
      "source": [
        "# Plot decision boundaries for training and test sets\n",
        "plot_decision_boundary(ModelV1, X, y)"
      ],
      "metadata": {
        "id": "JrwVRbaE0keT",
        "outputId": "219fbf11-c947-48ba-e5d2-68c2bb2749ea",
        "colab": {
          "base_uri": "https://localhost:8080/",
          "height": 434
        }
      },
      "execution_count": 699,
      "outputs": [
        {
          "output_type": "display_data",
          "data": {
            "text/plain": [
              "<Figure size 640x480 with 1 Axes>"
            ],
            "image/png": "[encoded data removed]"
          },
          "metadata": {}
        }
      ]
    }
  ]
}